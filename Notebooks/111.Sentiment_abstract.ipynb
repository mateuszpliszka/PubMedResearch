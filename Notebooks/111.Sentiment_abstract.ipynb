{
 "cells": [
  {
   "cell_type": "markdown",
   "metadata": {},
   "source": [
    "# Sentiment Abstracts"
   ]
  },
  {
   "cell_type": "markdown",
   "metadata": {},
   "source": [
    "In this notebook, we investigate the sentiment present in article abstracts."
   ]
  },
  {
   "cell_type": "markdown",
   "metadata": {},
   "source": [
    "## 1. Libraries"
   ]
  },
  {
   "cell_type": "code",
   "execution_count": 7,
   "metadata": {},
   "outputs": [],
   "source": [
    "import pandas as pd\n",
    "import matplotlib.pyplot as plt\n",
    "from nltk.sentiment import SentimentIntensityAnalyzer\n",
    "import tqdm\n",
    "import swifter"
   ]
  },
  {
   "cell_type": "markdown",
   "metadata": {},
   "source": [
    "## 2. Loading data"
   ]
  },
  {
   "cell_type": "code",
   "execution_count": 3,
   "metadata": {},
   "outputs": [
    {
     "data": {
      "text/html": [
       "<div>\n",
       "<style scoped>\n",
       "    .dataframe tbody tr th:only-of-type {\n",
       "        vertical-align: middle;\n",
       "    }\n",
       "\n",
       "    .dataframe tbody tr th {\n",
       "        vertical-align: top;\n",
       "    }\n",
       "\n",
       "    .dataframe thead th {\n",
       "        text-align: right;\n",
       "    }\n",
       "</style>\n",
       "<table border=\"1\" class=\"dataframe\">\n",
       "  <thead>\n",
       "    <tr style=\"text-align: right;\">\n",
       "      <th></th>\n",
       "      <th>uid</th>\n",
       "      <th>title</th>\n",
       "      <th>journal</th>\n",
       "      <th>abstract</th>\n",
       "      <th>authors</th>\n",
       "      <th>affiliations</th>\n",
       "      <th>mesh_terms</th>\n",
       "      <th>keywords</th>\n",
       "      <th>coi_statement</th>\n",
       "      <th>parsed_date</th>\n",
       "      <th>...</th>\n",
       "      <th>cleaned_title_tokens_hf</th>\n",
       "      <th>cleaned_abstract_tokens_simple</th>\n",
       "      <th>cleaned_abstract_tokens_hf</th>\n",
       "      <th>disease_title_tokens_simple</th>\n",
       "      <th>disease_title_tokens_hf</th>\n",
       "      <th>disease_abstract_tokens_simple</th>\n",
       "      <th>disease_abstract_tokens_hf</th>\n",
       "      <th>disease_abstract_spacy</th>\n",
       "      <th>disease_title_spacy</th>\n",
       "      <th>disease_mesh_terms_spacy</th>\n",
       "    </tr>\n",
       "  </thead>\n",
       "  <tbody>\n",
       "    <tr>\n",
       "      <th>0</th>\n",
       "      <td>10186596</td>\n",
       "      <td>The potential impact of health care reform on ...</td>\n",
       "      <td>Journal of public health management and practi...</td>\n",
       "      <td>General: This article observes that, despite t...</td>\n",
       "      <td>Auerbach J; McGuire J</td>\n",
       "      <td>HIV/AIDS Bureau, Massachusetts Department of P...</td>\n",
       "      <td>Financing, Government; HIV Infections; Health ...</td>\n",
       "      <td></td>\n",
       "      <td>N/A</td>\n",
       "      <td>1995-01-01</td>\n",
       "      <td>...</td>\n",
       "      <td>[[CLS], potential, impact, health, care, refor...</td>\n",
       "      <td>[general, article, observes, despite, clear, p...</td>\n",
       "      <td>[[CLS], general, article, observes, despite, c...</td>\n",
       "      <td>[hiv]</td>\n",
       "      <td>[hiv]</td>\n",
       "      <td>[hiv, aids]</td>\n",
       "      <td>[hiv, aids]</td>\n",
       "      <td>[human immunodeficiency virus (HIV) disease, a...</td>\n",
       "      <td>[]</td>\n",
       "      <td>[HIV Infections]</td>\n",
       "    </tr>\n",
       "    <tr>\n",
       "      <th>1</th>\n",
       "      <td>10186588</td>\n",
       "      <td>New Jersey health promotion and disease preven...</td>\n",
       "      <td>Journal of public health management and practi...</td>\n",
       "      <td>General: Health promotion is a major component...</td>\n",
       "      <td>Louria D B</td>\n",
       "      <td>Department of Preventive Medicine and Communit...</td>\n",
       "      <td>Female; Health Education; Health Promotion; Hu...</td>\n",
       "      <td></td>\n",
       "      <td>N/A</td>\n",
       "      <td>1995-01-01</td>\n",
       "      <td>...</td>\n",
       "      <td>[[CLS], new, jersey, health, promotion, diseas...</td>\n",
       "      <td>[general, health, promotion, major, component,...</td>\n",
       "      <td>[[CLS], general, health, promotion, major, com...</td>\n",
       "      <td>[]</td>\n",
       "      <td>[]</td>\n",
       "      <td>[]</td>\n",
       "      <td>[]</td>\n",
       "      <td>[]</td>\n",
       "      <td>[]</td>\n",
       "      <td>[]</td>\n",
       "    </tr>\n",
       "    <tr>\n",
       "      <th>2</th>\n",
       "      <td>10186587</td>\n",
       "      <td>Who will provide preventive services? The chan...</td>\n",
       "      <td>Journal of public health management and practi...</td>\n",
       "      <td>General: Health care reform in the United Stat...</td>\n",
       "      <td>Pearson T A; Spencer M; Jenkins P</td>\n",
       "      <td>Mary Imogene Bassett Research Institute, Coope...</td>\n",
       "      <td>Delivery of Health Care; Female; Health Care R...</td>\n",
       "      <td></td>\n",
       "      <td>N/A</td>\n",
       "      <td>1995-01-01</td>\n",
       "      <td>...</td>\n",
       "      <td>[[CLS], provide, prevent, ##ive, services, ?, ...</td>\n",
       "      <td>[general, health, care, reform, united, states...</td>\n",
       "      <td>[[CLS], general, health, care, reform, united,...</td>\n",
       "      <td>[]</td>\n",
       "      <td>[]</td>\n",
       "      <td>[]</td>\n",
       "      <td>[]</td>\n",
       "      <td>[]</td>\n",
       "      <td>[]</td>\n",
       "      <td>[]</td>\n",
       "    </tr>\n",
       "    <tr>\n",
       "      <th>3</th>\n",
       "      <td>10163501</td>\n",
       "      <td>Cytoreduction of small intestine metastases us...</td>\n",
       "      <td>Journal of gynecologic surgery</td>\n",
       "      <td>General: The Cavitron Ultrasonic Surgical Aspi...</td>\n",
       "      <td>Adelson M D</td>\n",
       "      <td>Department of Obstetrics and Gynecology, Crous...</td>\n",
       "      <td>Adenocarcinoma; Fallopian Tube Neoplasms; Fema...</td>\n",
       "      <td></td>\n",
       "      <td>N/A</td>\n",
       "      <td>1995-01-01</td>\n",
       "      <td>...</td>\n",
       "      <td>[[CLS], cy, ##tore, ##duction, small, int, ##e...</td>\n",
       "      <td>[general, cavitron, ultrasonic, surgical, aspi...</td>\n",
       "      <td>[[CLS], general, ca, ##vi, ##tron, ultra, ##so...</td>\n",
       "      <td>[]</td>\n",
       "      <td>[]</td>\n",
       "      <td>[tumor]</td>\n",
       "      <td>[tumor]</td>\n",
       "      <td>[carcinoma of the ovary, and one each had, tub...</td>\n",
       "      <td>[]</td>\n",
       "      <td>[Adenocarcinoma, Neoplasms, Ovarian Neoplasms]</td>\n",
       "    </tr>\n",
       "    <tr>\n",
       "      <th>4</th>\n",
       "      <td>10157383</td>\n",
       "      <td>Racial differences in access to kidney transpl...</td>\n",
       "      <td>Health care financing review</td>\n",
       "      <td>General: Previous work has documented large di...</td>\n",
       "      <td>Eggers P W</td>\n",
       "      <td>Office of Research and Demonstrations, Health ...</td>\n",
       "      <td>Adolescent; Adult; Black or African American; ...</td>\n",
       "      <td>Empirical Approach; End Stage Renal Disease Pr...</td>\n",
       "      <td>N/A</td>\n",
       "      <td>1995-01-01</td>\n",
       "      <td>...</td>\n",
       "      <td>[[CLS], racial, differences, access, kidney, t...</td>\n",
       "      <td>[general, previous, work, documented, large, d...</td>\n",
       "      <td>[[CLS], general, previous, work, documented, l...</td>\n",
       "      <td>[]</td>\n",
       "      <td>[]</td>\n",
       "      <td>[]</td>\n",
       "      <td>[]</td>\n",
       "      <td>[renal failure, renal failure, end stage renal...</td>\n",
       "      <td>[]</td>\n",
       "      <td>[American Kidney Failure]</td>\n",
       "    </tr>\n",
       "  </tbody>\n",
       "</table>\n",
       "<p>5 rows × 21 columns</p>\n",
       "</div>"
      ],
      "text/plain": [
       "        uid                                              title  \\\n",
       "0  10186596  The potential impact of health care reform on ...   \n",
       "1  10186588  New Jersey health promotion and disease preven...   \n",
       "2  10186587  Who will provide preventive services? The chan...   \n",
       "3  10163501  Cytoreduction of small intestine metastases us...   \n",
       "4  10157383  Racial differences in access to kidney transpl...   \n",
       "\n",
       "                                             journal  \\\n",
       "0  Journal of public health management and practi...   \n",
       "1  Journal of public health management and practi...   \n",
       "2  Journal of public health management and practi...   \n",
       "3                     Journal of gynecologic surgery   \n",
       "4                       Health care financing review   \n",
       "\n",
       "                                            abstract  \\\n",
       "0  General: This article observes that, despite t...   \n",
       "1  General: Health promotion is a major component...   \n",
       "2  General: Health care reform in the United Stat...   \n",
       "3  General: The Cavitron Ultrasonic Surgical Aspi...   \n",
       "4  General: Previous work has documented large di...   \n",
       "\n",
       "                             authors  \\\n",
       "0              Auerbach J; McGuire J   \n",
       "1                         Louria D B   \n",
       "2  Pearson T A; Spencer M; Jenkins P   \n",
       "3                        Adelson M D   \n",
       "4                         Eggers P W   \n",
       "\n",
       "                                        affiliations  \\\n",
       "0  HIV/AIDS Bureau, Massachusetts Department of P...   \n",
       "1  Department of Preventive Medicine and Communit...   \n",
       "2  Mary Imogene Bassett Research Institute, Coope...   \n",
       "3  Department of Obstetrics and Gynecology, Crous...   \n",
       "4  Office of Research and Demonstrations, Health ...   \n",
       "\n",
       "                                          mesh_terms  \\\n",
       "0  Financing, Government; HIV Infections; Health ...   \n",
       "1  Female; Health Education; Health Promotion; Hu...   \n",
       "2  Delivery of Health Care; Female; Health Care R...   \n",
       "3  Adenocarcinoma; Fallopian Tube Neoplasms; Fema...   \n",
       "4  Adolescent; Adult; Black or African American; ...   \n",
       "\n",
       "                                            keywords coi_statement  \\\n",
       "0                                                              N/A   \n",
       "1                                                              N/A   \n",
       "2                                                              N/A   \n",
       "3                                                              N/A   \n",
       "4  Empirical Approach; End Stage Renal Disease Pr...           N/A   \n",
       "\n",
       "  parsed_date  ...                            cleaned_title_tokens_hf  \\\n",
       "0  1995-01-01  ...  [[CLS], potential, impact, health, care, refor...   \n",
       "1  1995-01-01  ...  [[CLS], new, jersey, health, promotion, diseas...   \n",
       "2  1995-01-01  ...  [[CLS], provide, prevent, ##ive, services, ?, ...   \n",
       "3  1995-01-01  ...  [[CLS], cy, ##tore, ##duction, small, int, ##e...   \n",
       "4  1995-01-01  ...  [[CLS], racial, differences, access, kidney, t...   \n",
       "\n",
       "                      cleaned_abstract_tokens_simple  \\\n",
       "0  [general, article, observes, despite, clear, p...   \n",
       "1  [general, health, promotion, major, component,...   \n",
       "2  [general, health, care, reform, united, states...   \n",
       "3  [general, cavitron, ultrasonic, surgical, aspi...   \n",
       "4  [general, previous, work, documented, large, d...   \n",
       "\n",
       "                          cleaned_abstract_tokens_hf  \\\n",
       "0  [[CLS], general, article, observes, despite, c...   \n",
       "1  [[CLS], general, health, promotion, major, com...   \n",
       "2  [[CLS], general, health, care, reform, united,...   \n",
       "3  [[CLS], general, ca, ##vi, ##tron, ultra, ##so...   \n",
       "4  [[CLS], general, previous, work, documented, l...   \n",
       "\n",
       "  disease_title_tokens_simple disease_title_tokens_hf  \\\n",
       "0                       [hiv]                   [hiv]   \n",
       "1                          []                      []   \n",
       "2                          []                      []   \n",
       "3                          []                      []   \n",
       "4                          []                      []   \n",
       "\n",
       "  disease_abstract_tokens_simple disease_abstract_tokens_hf  \\\n",
       "0                    [hiv, aids]                [hiv, aids]   \n",
       "1                             []                         []   \n",
       "2                             []                         []   \n",
       "3                        [tumor]                    [tumor]   \n",
       "4                             []                         []   \n",
       "\n",
       "                              disease_abstract_spacy disease_title_spacy  \\\n",
       "0  [human immunodeficiency virus (HIV) disease, a...                  []   \n",
       "1                                                 []                  []   \n",
       "2                                                 []                  []   \n",
       "3  [carcinoma of the ovary, and one each had, tub...                  []   \n",
       "4  [renal failure, renal failure, end stage renal...                  []   \n",
       "\n",
       "                         disease_mesh_terms_spacy  \n",
       "0                                [HIV Infections]  \n",
       "1                                              []  \n",
       "2                                              []  \n",
       "3  [Adenocarcinoma, Neoplasms, Ovarian Neoplasms]  \n",
       "4                       [American Kidney Failure]  \n",
       "\n",
       "[5 rows x 21 columns]"
      ]
     },
     "execution_count": 3,
     "metadata": {},
     "output_type": "execute_result"
    }
   ],
   "source": [
    "df = pd.read_parquet(r\"..\\Data\\cleaned_parquet\\final\\P5_final_new.parquet\")\n",
    "df.head()"
   ]
  },
  {
   "cell_type": "code",
   "execution_count": 10,
   "metadata": {},
   "outputs": [
    {
     "data": {
      "text/plain": [
       "Index(['uid', 'title', 'journal', 'abstract', 'authors', 'affiliations',\n",
       "       'mesh_terms', 'keywords', 'coi_statement', 'parsed_date',\n",
       "       'cleaned_title_tokens_simple', 'cleaned_title_tokens_hf',\n",
       "       'cleaned_abstract_tokens_simple', 'cleaned_abstract_tokens_hf',\n",
       "       'disease_title_tokens_simple', 'disease_title_tokens_hf',\n",
       "       'disease_abstract_tokens_simple', 'disease_abstract_tokens_hf',\n",
       "       'disease_abstract_spacy', 'disease_title_spacy',\n",
       "       'disease_mesh_terms_spacy'],\n",
       "      dtype='object')"
      ]
     },
     "execution_count": 10,
     "metadata": {},
     "output_type": "execute_result"
    }
   ],
   "source": [
    "df.columns"
   ]
  },
  {
   "cell_type": "markdown",
   "metadata": {},
   "source": [
    "## 3. Sentiment Analysis (VADER) on abstracts"
   ]
  },
  {
   "cell_type": "code",
   "execution_count": 14,
   "metadata": {},
   "outputs": [
    {
     "data": {
      "application/vnd.jupyter.widget-view+json": {
       "model_id": "266cb293beab4126a86f8c041a53d2b5",
       "version_major": 2,
       "version_minor": 0
      },
      "text/plain": [
       "Pandas Apply:   0%|          | 0/1057871 [00:00<?, ?it/s]"
      ]
     },
     "metadata": {},
     "output_type": "display_data"
    }
   ],
   "source": [
    "sia = SentimentIntensityAnalyzer()\n",
    "df[['neg_vader', 'neu_vader', 'pos_vader', 'compound_vader']] = df['abstract'].swifter.apply(\n",
    "    lambda text: pd.Series(sia.polarity_scores(str(text)))\n",
    ")"
   ]
  },
  {
   "cell_type": "markdown",
   "metadata": {},
   "source": [
    "### 3.1. Average score"
   ]
  },
  {
   "cell_type": "code",
   "execution_count": 18,
   "metadata": {},
   "outputs": [
    {
     "name": "stdout",
     "output_type": "stream",
     "text": [
      "Average sentiment scores:\n",
      "neg_vader         0.059812\n",
      "neu_vader         0.874477\n",
      "pos_vader         0.065708\n",
      "compound_vader    0.082011\n",
      "dtype: float64\n"
     ]
    }
   ],
   "source": [
    "mean_scores = df[['neg_vader', 'neu_vader', 'pos_vader', 'compound_vader']].mean()\n",
    "\n",
    "print(\"Average sentiment scores:\")\n",
    "print(mean_scores)"
   ]
  },
  {
   "cell_type": "markdown",
   "metadata": {},
   "source": [
    "We can observe that on average abstracts, as expected, are neutral."
   ]
  },
  {
   "cell_type": "markdown",
   "metadata": {},
   "source": [
    "### 3.2. Sentiment Trends Over Time"
   ]
  },
  {
   "cell_type": "code",
   "execution_count": 19,
   "metadata": {},
   "outputs": [
    {
     "data": {
      "image/png": "[encoded data removed]",
      "text/plain": [
       "<Figure size 1200x600 with 1 Axes>"
      ]
     },
     "metadata": {},
     "output_type": "display_data"
    }
   ],
   "source": [
    "sentiment_per_year = df.groupby(df['parsed_date'].dt.year)[['neg_vader', 'neu_vader', 'pos_vader', 'compound_vader']].mean()\n",
    "\n",
    "sentiment_per_year.plot(kind='line', figsize=(12, 6), marker='o', title='Sentiment Trends Over Time')\n",
    "plt.xlabel('Year')\n",
    "plt.ylabel('Average Sentiment Score')\n",
    "plt.legend(title=\"Sentiment Type\")\n",
    "plt.show()"
   ]
  },
  {
   "cell_type": "markdown",
   "metadata": {},
   "source": [
    "We can observe that sentiment in abstracts does not change significantly over time. There is only a slight decrease in negative sentiment from 2010 onwards."
   ]
  },
  {
   "cell_type": "markdown",
   "metadata": {},
   "source": [
    "### 3.3. Monthly Sentiment Trends"
   ]
  },
  {
   "cell_type": "code",
   "execution_count": null,
   "metadata": {},
   "outputs": [
    {
     "data": {
      "image/png": "[encoded data removed]",
      "text/plain": [
       "<Figure size 1200x600 with 1 Axes>"
      ]
     },
     "metadata": {},
     "output_type": "display_data"
    }
   ],
   "source": [
    "compound_vader_per_month_avg = df.groupby(df['parsed_date'].dt.month)['compound_vader'].mean()\n",
    "\n",
    "plt.figure(figsize=(12, 6))\n",
    "compound_vader_per_month_avg.plot(kind='bar', title='Average Compound Vader Per Month')\n",
    "plt.xlabel('Month')\n",
    "plt.ylabel('Average Compound Vader')\n",
    "plt.xticks(ticks=range(0, 12), labels=['Jan', 'Feb', 'Mar', 'Apr', 'May', 'Jun', 'Jul', 'Aug', 'Sep', 'Oct', 'Nov', 'Dec'], rotation=0)\n",
    "plt.show()"
   ]
  },
  {
   "cell_type": "markdown",
   "metadata": {},
   "source": [
    "We can observe that any month in a year is not associated with negative sentiment in abstracts. For all of the months, sentiment stays more or less the same."
   ]
  },
  {
   "cell_type": "markdown",
   "metadata": {},
   "source": [
    "## 4. Conclusions"
   ]
  },
  {
   "cell_type": "markdown",
   "metadata": {},
   "source": [
    "1. On average abstracts, as expected, are neutral.\n",
    "\n",
    "2. Sentiment in abstracts does not change significantly over time. There is only a slight decrease in negative sentiment from 2010 onwards.\n",
    "\n",
    "3. Any month in a year is not associated with negative sentiment in abstracts. For all of the months, sentiment stays more or less the same."
   ]
  }
 ],
 "metadata": {
  "kernelspec": {
   "display_name": "Python 3",
   "language": "python",
   "name": "python3"
  },
  "language_info": {
   "codemirror_mode": {
    "name": "ipython",
    "version": 3
   },
   "file_extension": ".py",
   "mimetype": "text/x-python",
   "name": "python",
   "nbconvert_exporter": "python",
   "pygments_lexer": "ipython3",
   "version": "3.11.9"
  }
 },
 "nbformat": 4,
 "nbformat_minor": 2
}
